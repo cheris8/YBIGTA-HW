{
 "cells": [
  {
   "cell_type": "markdown",
   "metadata": {},
   "source": [
    "# 크롤링 과제"
   ]
  },
  {
   "cell_type": "markdown",
   "metadata": {},
   "source": [
    "2020.02.02 18기 문헌정보학과 김채형"
   ]
  },
  {
   "cell_type": "markdown",
   "metadata": {},
   "source": [
    "### 네이버 검색창에 ‘제주도’ 검색해서 나오는 기사 제목 한페이지 크롤링한 화면 캡쳐해서 제출 (Selenium/bs4중 선택)"
   ]
  },
  {
   "cell_type": "code",
   "execution_count": 1,
   "metadata": {},
   "outputs": [],
   "source": [
    "from selenium import webdriver"
   ]
  },
  {
   "cell_type": "code",
   "execution_count": 2,
   "metadata": {},
   "outputs": [],
   "source": [
    "path = '/Users/kimchaehyeong/Downloads/chromedriver'\n",
    "url = 'https://www.naver.com/'\n",
    "query = '제주도'"
   ]
  },
  {
   "cell_type": "code",
   "execution_count": 3,
   "metadata": {},
   "outputs": [],
   "source": [
    "# 크롬 드라이버 시작\n",
    "driver = webdriver.Chrome(path)\n",
    "driver.get(url)"
   ]
  },
  {
   "cell_type": "code",
   "execution_count": 4,
   "metadata": {},
   "outputs": [],
   "source": [
    "# 검색\n",
    "driver.find_element_by_xpath('//*[@id=\"query\"]').send_keys(query)\n",
    "driver.find_element_by_xpath('//*[@id=\"search_btn\"]').click()"
   ]
  },
  {
   "cell_type": "code",
   "execution_count": 5,
   "metadata": {},
   "outputs": [],
   "source": [
    "# 뉴스 탭으로 이동\n",
    "driver.find_element_by_xpath('//*[@id=\"lnb\"]/div[1]/div/ul/li[4]/a').click()"
   ]
  },
  {
   "cell_type": "code",
   "execution_count": 6,
   "metadata": {},
   "outputs": [
    {
     "name": "stdout",
     "output_type": "stream",
     "text": [
      "국민의힘 제주도당 “제주 제2공항 찬성” 당론 결정\n",
      "제주도, 경남 전 지역 가금산물 반입금지 조치 해제\n",
      "인천 남동구의회, 코로나19 확산 중 제주도 연수 추진 논란\n",
      "제주도의회 국민의힘 \"제2공항 찬성 결단 내려달라\"\n",
      "[전문] 제주도 4일 코로나19 신규 확진자 3명 추가 발생 공개\n",
      "제주도, 카지노 산업 부정적 이미지 개선 추진\n",
      "제주도, 스크린 골프장 3곳에 과태료 150만원 부과\n",
      "제주도교육청, 설 명절 공직기강 특별점검 실시\n",
      "제주도, 2021년 '제주인재육성 장학생' 선발…200명\n",
      "제주도, 스마트관광·청정바이오·그린에너지 198억 투입\n"
     ]
    }
   ],
   "source": [
    "# 뉴스 기사 제목\n",
    "titles = driver.find_elements_by_class_name('news_tit')\n",
    "\n",
    "for title in titles:\n",
    "    print(title.text)"
   ]
  },
  {
   "cell_type": "code",
   "execution_count": 7,
   "metadata": {},
   "outputs": [],
   "source": [
    "driver.quit()"
   ]
  }
 ],
 "metadata": {
  "kernelspec": {
   "display_name": "Python 3",
   "language": "python",
   "name": "python3"
  },
  "language_info": {
   "codemirror_mode": {
    "name": "ipython",
    "version": 3
   },
   "file_extension": ".py",
   "mimetype": "text/x-python",
   "name": "python",
   "nbconvert_exporter": "python",
   "pygments_lexer": "ipython3",
   "version": "3.6.5"
  }
 },
 "nbformat": 4,
 "nbformat_minor": 4
}
